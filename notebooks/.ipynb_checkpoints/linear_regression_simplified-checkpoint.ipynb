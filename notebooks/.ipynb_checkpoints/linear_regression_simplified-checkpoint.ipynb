{
 "cells": [
  {
   "cell_type": "markdown",
   "id": "accf4181",
   "metadata": {},
   "source": [
    "# Problem Description"
   ]
  },
  {
   "cell_type": "code",
   "execution_count": 4,
   "id": "e02b6399",
   "metadata": {},
   "outputs": [],
   "source": [
    "# model: mass - speed"
   ]
  },
  {
   "cell_type": "markdown",
   "id": "f731146b",
   "metadata": {},
   "source": [
    "# Setup"
   ]
  },
  {
   "cell_type": "code",
   "execution_count": 27,
   "id": "7b7d942b",
   "metadata": {},
   "outputs": [],
   "source": [
    "import pandas as pd\n",
    "import numpy as np\n",
    "import matplotlib.pyplot as plt"
   ]
  },
  {
   "cell_type": "markdown",
   "id": "09fcaa17",
   "metadata": {},
   "source": [
    "# Data"
   ]
  },
  {
   "cell_type": "code",
   "execution_count": 54,
   "id": "99412549",
   "metadata": {},
   "outputs": [
    {
     "data": {
      "text/html": [
       "<div>\n",
       "<style scoped>\n",
       "    .dataframe tbody tr th:only-of-type {\n",
       "        vertical-align: middle;\n",
       "    }\n",
       "\n",
       "    .dataframe tbody tr th {\n",
       "        vertical-align: top;\n",
       "    }\n",
       "\n",
       "    .dataframe thead th {\n",
       "        text-align: right;\n",
       "    }\n",
       "</style>\n",
       "<table border=\"1\" class=\"dataframe\">\n",
       "  <thead>\n",
       "    <tr style=\"text-align: right;\">\n",
       "      <th></th>\n",
       "      <th>animal</th>\n",
       "      <th>body_mass_kg</th>\n",
       "      <th>max_running_speed_kmh</th>\n",
       "    </tr>\n",
       "  </thead>\n",
       "  <tbody>\n",
       "    <tr>\n",
       "      <th>0</th>\n",
       "      <td>rhino</td>\n",
       "      <td>1400</td>\n",
       "      <td>45</td>\n",
       "    </tr>\n",
       "    <tr>\n",
       "      <th>1</th>\n",
       "      <td>horse</td>\n",
       "      <td>400</td>\n",
       "      <td>70</td>\n",
       "    </tr>\n",
       "    <tr>\n",
       "      <th>2</th>\n",
       "      <td>pronghorn</td>\n",
       "      <td>50</td>\n",
       "      <td>100</td>\n",
       "    </tr>\n",
       "    <tr>\n",
       "      <th>3</th>\n",
       "      <td>giraffe</td>\n",
       "      <td>1000</td>\n",
       "      <td>60</td>\n",
       "    </tr>\n",
       "    <tr>\n",
       "      <th>4</th>\n",
       "      <td>wildbeest</td>\n",
       "      <td>300</td>\n",
       "      <td>90</td>\n",
       "    </tr>\n",
       "    <tr>\n",
       "      <th>5</th>\n",
       "      <td>cheetha</td>\n",
       "      <td>60</td>\n",
       "      <td>110</td>\n",
       "    </tr>\n",
       "  </tbody>\n",
       "</table>\n",
       "</div>"
      ],
      "text/plain": [
       "      animal  body_mass_kg  max_running_speed_kmh\n",
       "0      rhino          1400                     45\n",
       "1      horse           400                     70\n",
       "2  pronghorn            50                    100\n",
       "3    giraffe          1000                     60\n",
       "4  wildbeest           300                     90\n",
       "5    cheetha            60                    110"
      ]
     },
     "execution_count": 54,
     "metadata": {},
     "output_type": "execute_result"
    }
   ],
   "source": [
    "data = {\n",
    "        'animal': ['rhino', 'horse', 'pronghorn', 'giraffe', 'wildbeest', 'cheetha'],\n",
    "        'body_mass_kg': [1400, 400, 50, 1000, 300, 60],\n",
    "        'max_running_speed_kmh': [45, 70, 100, 60, 90, 110]\n",
    "       }\n",
    "df = pd.DataFrame(data)\n",
    "df"
   ]
  },
  {
   "cell_type": "markdown",
   "id": "20942ee1",
   "metadata": {},
   "source": [
    "# Calculate Coefficients"
   ]
  },
  {
   "cell_type": "markdown",
   "id": "9ac0c286",
   "metadata": {},
   "source": [
    "$y = ax + b$\n",
    "\n",
    "**Minimize the Error**\n",
    "\n",
    "$L(a, b) = \\frac{1}{N} \\sum_{i=1}^N (y_i - \\hat{y_i})^2$\n",
    "\n",
    "$L(a, b) = \\frac{1}{N} \\sum_{i=1}^N (y_i - a\\cdot x_{i} - b)^2$\n",
    "\n",
    "**Partial Derivatives**\n",
    "\n",
    "$\\frac{\\delta{L}}{\\delta a}= \\frac{2}{N} \\sum_{i=1}^N (y_i -a \\cdot x_i - b)\\cdot (-x_i)$\n",
    "\n",
    "$\\frac{\\delta{L}}{\\delta b}= \\frac{2}{N} \\sum_{i=1}^N (y_i -a \\cdot x_i - b).$\n",
    "\n",
    "**Set Derivatives to zero**\n",
    "\n",
    "$0 =  \\frac{2}{N} \\sum_{i=1}^N (y_i -a \\cdot x_i - b)\\cdot x_i$ (1)\n",
    "\n",
    "$0 =  \\frac{2}{N} \\sum_{i=1}^N (y_i -a \\cdot x_i - b) \\cdot(-1)$ (2)"
   ]
  },
  {
   "cell_type": "markdown",
   "id": "fd314209",
   "metadata": {},
   "source": [
    "**Equation (2)**\n",
    "\n",
    "$0 = \\sum_{i=1}^N((-y_i) + a\\cdot x_i + b)$\n",
    "\n",
    "$0 = \\sum_{i=1}^N(y_i - a\\cdot x_i - b)$\n",
    "\n",
    "$\\sum_{i=1}^N b = \\sum_{i=1}^N y_i - a\\cdot \\sum_{i=1}^N x_i$\n",
    "\n",
    "$N \\cdot b = \\sum_{i=1}^N y_i - a \\sum_{i=1}^N x_i$\n",
    "\n",
    "$b = \\frac{1}{N} \\sum_{i=1}^N y_i - a \\frac{1}{N} \\sum_{i=1}^N x_i$\n",
    "\n",
    "$b = \\bar{y} - a\\cdot \\bar{x}$"
   ]
  },
  {
   "cell_type": "markdown",
   "id": "310a77a3",
   "metadata": {},
   "source": [
    "**Equation (1)**\n",
    "\n",
    "$0 = \\sum_{i=1}^N(y_i - a\\cdot x_i -b)x_i$\n",
    "\n",
    "plug in equation (1)\n",
    "\n",
    "$0 = \\sum_{i=1}^N (y_i - a \\cdot x_i - b)\\cdot x_i$\n",
    "\n",
    "$0 = \\sum_{i=1}^N (y_i - a \\cdot x_i -(\\bar{y} - a\\cdot\\bar{x}))\\cdot x_i$\n",
    "\n",
    "$0 = \\sum_{i=1}^N (y_i - \\bar{y} - a\\cdot(x_i - \\bar{x}))\\cdot x_i$\n",
    "\n",
    "$0 = \\sum_{i=1}^N x_i (y_i - \\bar{y}) - \\sum_{i=1}^N a\\cdot x_i\\cdot(x_i - bar{x})$\n",
    "\n",
    "$\\sum_{i=1}^N x_i \\cdot (y_i - \\bar{y}) = a\\cdot \\sum_{i=1}^N x_i\\cdot(x_i - \\bar{x})$\n",
    "\n",
    "$a = \\frac{\\sum_{i=1}^N x_i\\cdot(y_i - \\bar{y})}{\\sum_{i=1}^N(x_i^2 - x_i\\cdot\\bar{x})}$ "
   ]
  },
  {
   "cell_type": "markdown",
   "id": "ee54b946",
   "metadata": {},
   "source": [
    "# Calculate Coefficients for Example"
   ]
  },
  {
   "cell_type": "markdown",
   "id": "a3440d13",
   "metadata": {},
   "source": [
    "**a**"
   ]
  },
  {
   "cell_type": "code",
   "execution_count": 16,
   "id": "f16324bf",
   "metadata": {},
   "outputs": [
    {
     "data": {
      "text/plain": [
       "-0.04305968306922435"
      ]
     },
     "execution_count": 16,
     "metadata": {},
     "output_type": "execute_result"
    }
   ],
   "source": [
    "(1400*(45-79.17)+400*(70-79.17)+50*(100-79.17)+1000*(60-79.17)+300*(90-79.17)+60*(110-79.17))/(1400*(1400-535)+400*(400-535)+50*(50-535)+1000*(1000-535)+300*(300-535)+60*(60-535))"
   ]
  },
  {
   "cell_type": "markdown",
   "id": "7aea9700",
   "metadata": {},
   "source": [
    "**b**"
   ]
  },
  {
   "cell_type": "code",
   "execution_count": 18,
   "id": "edd94dba",
   "metadata": {
    "scrolled": true
   },
   "outputs": [
    {
     "data": {
      "text/plain": [
       "102.175"
      ]
     },
     "execution_count": 18,
     "metadata": {},
     "output_type": "execute_result"
    }
   ],
   "source": [
    "79.17 + 0.043* 535"
   ]
  },
  {
   "cell_type": "markdown",
   "id": "b179b173",
   "metadata": {},
   "source": [
    "# Plot Regression Line"
   ]
  },
  {
   "cell_type": "code",
   "execution_count": 85,
   "id": "16cbadcc",
   "metadata": {},
   "outputs": [
    {
     "data": {
      "image/png": "[encoded data removed]",
      "text/plain": [
       "<Figure size 640x480 with 1 Axes>"
      ]
     },
     "metadata": {},
     "output_type": "display_data"
    }
   ],
   "source": [
    "plt.scatter(df['body_mass_kg'].values, df['max_running_speed_kmh'].values)\n",
    "x = sorted(df['body_mass_kg'].values, reverse=True)\n",
    "y_hat = x*np.repeat(-0.043,6) + 102.175\n",
    "plt.plot(x, y_hat, color=\"orange\")\n",
    "plt.xlabel(\"body mass in kg\")\n",
    "plt.ylabel(\"maximal running speed km/h\")\n",
    "plt.savefig(\"simple_linear_regression_example\");"
   ]
  },
  {
   "cell_type": "markdown",
   "id": "4d04cd09",
   "metadata": {},
   "source": [
    "# Residuals"
   ]
  },
  {
   "cell_type": "code",
   "execution_count": 120,
   "id": "8b74f993",
   "metadata": {},
   "outputs": [
    {
     "data": {
      "text/plain": [
       "array([ 45,  70, 100,  60,  90, 110])"
      ]
     },
     "execution_count": 120,
     "metadata": {},
     "output_type": "execute_result"
    }
   ],
   "source": [
    "y = df['max_running_speed_kmh'].values\n",
    "y"
   ]
  },
  {
   "cell_type": "code",
   "execution_count": 126,
   "id": "c83dbdb0",
   "metadata": {},
   "outputs": [
    {
     "data": {
      "text/plain": [
       "[50, 60, 300, 400, 1000, 1400]"
      ]
     },
     "execution_count": 126,
     "metadata": {},
     "output_type": "execute_result"
    }
   ],
   "source": [
    "x = sorted(df['body_mass_kg'].values)\n",
    "x"
   ]
  },
  {
   "cell_type": "code",
   "execution_count": 127,
   "id": "09c7db50",
   "metadata": {},
   "outputs": [
    {
     "name": "stdout",
     "output_type": "stream",
     "text": [
      "110 50\n",
      "100 60\n",
      "90 300\n",
      "70 400\n",
      "60 1000\n",
      "45 1400\n"
     ]
    }
   ],
   "source": [
    "for i,j in zip(y, x):\n",
    "    print(i, j)"
   ]
  },
  {
   "cell_type": "code",
   "execution_count": 128,
   "id": "240e5653",
   "metadata": {},
   "outputs": [
    {
     "data": {
      "text/plain": [
       "[(110, 50), (100, 60), (90, 300), (70, 400), (60, 1000), (45, 1400)]"
      ]
     },
     "execution_count": 128,
     "metadata": {},
     "output_type": "execute_result"
    }
   ],
   "source": [
    "sorted(zip(y, x), key=lambda x:x[0], reverse=True)"
   ]
  },
  {
   "cell_type": "code",
   "execution_count": 129,
   "id": "92e6b1f8",
   "metadata": {},
   "outputs": [
    {
     "data": {
      "text/plain": [
       "[110, 100, 90, 70, 60, 45]"
      ]
     },
     "execution_count": 129,
     "metadata": {},
     "output_type": "execute_result"
    }
   ],
   "source": [
    "# sort y by x\n",
    "y = [val for (val, _) in sorted(zip(y, x), key=lambda x:x[0], reverse=True)]\n",
    "y"
   ]
  },
  {
   "cell_type": "code",
   "execution_count": 130,
   "id": "6e87a1db",
   "metadata": {},
   "outputs": [
    {
     "data": {
      "text/plain": [
       "array([100.025,  99.595,  89.275,  84.975,  59.175,  41.975])"
      ]
     },
     "execution_count": 130,
     "metadata": {},
     "output_type": "execute_result"
    }
   ],
   "source": [
    "y_hat = x*np.repeat(-0.043,6) + 102.175\n",
    "y_hat"
   ]
  },
  {
   "cell_type": "code",
   "execution_count": 131,
   "id": "3159d949",
   "metadata": {},
   "outputs": [
    {
     "data": {
      "text/plain": [
       "array([-9.975, -0.405, -0.725, 14.975, -0.825, -3.025])"
      ]
     },
     "execution_count": 131,
     "metadata": {},
     "output_type": "execute_result"
    }
   ],
   "source": [
    "y_hat - y"
   ]
  },
  {
   "cell_type": "code",
   "execution_count": null,
   "id": "4db77b49",
   "metadata": {},
   "outputs": [],
   "source": []
  }
 ],
 "metadata": {
  "kernelspec": {
   "display_name": "Python 3 (ipykernel)",
   "language": "python",
   "name": "python3"
  },
  "language_info": {
   "codemirror_mode": {
    "name": "ipython",
    "version": 3
   },
   "file_extension": ".py",
   "mimetype": "text/x-python",
   "name": "python",
   "nbconvert_exporter": "python",
   "pygments_lexer": "ipython3",
   "version": "3.10.9"
  }
 },
 "nbformat": 4,
 "nbformat_minor": 5
}
