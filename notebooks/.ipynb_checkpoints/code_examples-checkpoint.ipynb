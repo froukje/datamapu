{
 "cells": [
  {
   "cell_type": "markdown",
   "id": "f6a4bdc4",
   "metadata": {},
   "source": [
    "**Linear Regression**"
   ]
  },
  {
   "cell_type": "code",
   "execution_count": 1,
   "id": "62b2b550",
   "metadata": {},
   "outputs": [
    {
     "name": "stdout",
     "output_type": "stream",
     "text": [
      "[[1.93]]\n",
      "[3.23]\n",
      "[[ 5.16]\n",
      " [ 7.09]\n",
      " [ 9.02]\n",
      " [10.95]\n",
      " [12.88]]\n"
     ]
    }
   ],
   "source": [
    "import numpy as np\n",
    "from sklearn.linear_model import LinearRegression\n",
    "X = np.array([1, 2, 3, 4, 5]).reshape(-1, 1)\n",
    "y = np.array([5.1, 7.2, 8.9, 11.1, 12.8]).reshape(-1, 1)\n",
    "reg = LinearRegression().fit(X, y)\n",
    "print(reg.coef_)\n",
    "print(reg.intercept_)\n",
    "\n",
    "y_pred = reg.predict(X)\n",
    "print(y_pred)"
   ]
  },
  {
   "cell_type": "markdown",
   "id": "73afa780",
   "metadata": {},
   "source": [
    "**Logistic Regression**"
   ]
  },
  {
   "cell_type": "code",
   "execution_count": 2,
   "id": "04b5de5c",
   "metadata": {},
   "outputs": [
    {
     "name": "stdout",
     "output_type": "stream",
     "text": [
      "[0 0 0 1 1 1]\n",
      "[0.05915596 0.15714628 0.35603106 0.62113094 0.82939351 0.97714137]\n"
     ]
    }
   ],
   "source": [
    "import numpy as np\n",
    "from sklearn.linear_model import LogisticRegression\n",
    "X = np.array([1, 2, 3, 4, 5, 7]).reshape(-1, 1)\n",
    "y = np.array([0, 0, 0, 1, 1, 1]).reshape(-1,)\n",
    "clf = LogisticRegression().fit(X, y)\n",
    "y_pred = clf.predict(X)\n",
    "y_pred_proba = clf.predict_proba(X)\n",
    "print(y_pred)\n",
    "print(y_pred_proba[:,1])"
   ]
  },
  {
   "cell_type": "markdown",
   "id": "f21b14f4",
   "metadata": {},
   "source": [
    "**Decision Tree**"
   ]
  },
  {
   "cell_type": "code",
   "execution_count": 3,
   "id": "c4f62957",
   "metadata": {},
   "outputs": [
    {
     "data": {
      "text/html": [
       "<div>\n",
       "<style scoped>\n",
       "    .dataframe tbody tr th:only-of-type {\n",
       "        vertical-align: middle;\n",
       "    }\n",
       "\n",
       "    .dataframe tbody tr th {\n",
       "        vertical-align: top;\n",
       "    }\n",
       "\n",
       "    .dataframe thead th {\n",
       "        text-align: right;\n",
       "    }\n",
       "</style>\n",
       "<table border=\"1\" class=\"dataframe\">\n",
       "  <thead>\n",
       "    <tr style=\"text-align: right;\">\n",
       "      <th></th>\n",
       "      <th>age</th>\n",
       "      <th>likes goats</th>\n",
       "      <th>likes height</th>\n",
       "      <th>go rock climbing</th>\n",
       "    </tr>\n",
       "  </thead>\n",
       "  <tbody>\n",
       "    <tr>\n",
       "      <th>0</th>\n",
       "      <td>23</td>\n",
       "      <td>no</td>\n",
       "      <td>no</td>\n",
       "      <td>no</td>\n",
       "    </tr>\n",
       "    <tr>\n",
       "      <th>1</th>\n",
       "      <td>31</td>\n",
       "      <td>yes</td>\n",
       "      <td>yes</td>\n",
       "      <td>yes</td>\n",
       "    </tr>\n",
       "    <tr>\n",
       "      <th>2</th>\n",
       "      <td>35</td>\n",
       "      <td>no</td>\n",
       "      <td>yes</td>\n",
       "      <td>yes</td>\n",
       "    </tr>\n",
       "    <tr>\n",
       "      <th>3</th>\n",
       "      <td>35</td>\n",
       "      <td>no</td>\n",
       "      <td>no</td>\n",
       "      <td>no</td>\n",
       "    </tr>\n",
       "    <tr>\n",
       "      <th>4</th>\n",
       "      <td>42</td>\n",
       "      <td>no</td>\n",
       "      <td>no</td>\n",
       "      <td>no</td>\n",
       "    </tr>\n",
       "    <tr>\n",
       "      <th>5</th>\n",
       "      <td>43</td>\n",
       "      <td>yes</td>\n",
       "      <td>yes</td>\n",
       "      <td>yes</td>\n",
       "    </tr>\n",
       "    <tr>\n",
       "      <th>6</th>\n",
       "      <td>45</td>\n",
       "      <td>yes</td>\n",
       "      <td>no</td>\n",
       "      <td>no</td>\n",
       "    </tr>\n",
       "    <tr>\n",
       "      <th>7</th>\n",
       "      <td>46</td>\n",
       "      <td>yes</td>\n",
       "      <td>yes</td>\n",
       "      <td>yes</td>\n",
       "    </tr>\n",
       "    <tr>\n",
       "      <th>8</th>\n",
       "      <td>46</td>\n",
       "      <td>no</td>\n",
       "      <td>yes</td>\n",
       "      <td>no</td>\n",
       "    </tr>\n",
       "    <tr>\n",
       "      <th>9</th>\n",
       "      <td>51</td>\n",
       "      <td>yes</td>\n",
       "      <td>yes</td>\n",
       "      <td>yes</td>\n",
       "    </tr>\n",
       "  </tbody>\n",
       "</table>\n",
       "</div>"
      ],
      "text/plain": [
       "   age likes goats likes height go rock climbing\n",
       "0   23          no           no               no\n",
       "1   31         yes          yes              yes\n",
       "2   35          no          yes              yes\n",
       "3   35          no           no               no\n",
       "4   42          no           no               no\n",
       "5   43         yes          yes              yes\n",
       "6   45         yes           no               no\n",
       "7   46         yes          yes              yes\n",
       "8   46          no          yes               no\n",
       "9   51         yes          yes              yes"
      ]
     },
     "execution_count": 3,
     "metadata": {},
     "output_type": "execute_result"
    }
   ],
   "source": [
    "import pandas as pd\n",
    "import matplotlib.pyplot as plt\n",
    "from sklearn.tree import DecisionTreeClassifier, plot_tree\n",
    "\n",
    "data = {'age': [23, 31, 35, 35, 42, 43, 45, 46, 46, 51], \n",
    "        'likes goats': ['no', 'yes', 'no', 'no', 'no', 'yes', 'yes', 'yes', 'no', 'yes'], \n",
    "        'likes height': ['no', 'yes', 'yes', 'no', 'no', 'yes', 'no', 'yes', 'yes', 'yes'], \n",
    "        'go rock climbing': ['no', 'yes', 'yes', 'no', 'no', 'yes', 'no', 'yes', 'no', 'yes']}\n",
    "\n",
    "df = pd.DataFrame(data)\n",
    "df"
   ]
  },
  {
   "cell_type": "code",
   "execution_count": 4,
   "id": "65ad1404",
   "metadata": {},
   "outputs": [
    {
     "data": {
      "text/html": [
       "<div>\n",
       "<style scoped>\n",
       "    .dataframe tbody tr th:only-of-type {\n",
       "        vertical-align: middle;\n",
       "    }\n",
       "\n",
       "    .dataframe tbody tr th {\n",
       "        vertical-align: top;\n",
       "    }\n",
       "\n",
       "    .dataframe thead th {\n",
       "        text-align: right;\n",
       "    }\n",
       "</style>\n",
       "<table border=\"1\" class=\"dataframe\">\n",
       "  <thead>\n",
       "    <tr style=\"text-align: right;\">\n",
       "      <th></th>\n",
       "      <th>age</th>\n",
       "      <th>likes goats</th>\n",
       "      <th>likes height</th>\n",
       "      <th>go rock climbing</th>\n",
       "    </tr>\n",
       "  </thead>\n",
       "  <tbody>\n",
       "    <tr>\n",
       "      <th>0</th>\n",
       "      <td>23</td>\n",
       "      <td>0</td>\n",
       "      <td>0</td>\n",
       "      <td>0</td>\n",
       "    </tr>\n",
       "    <tr>\n",
       "      <th>1</th>\n",
       "      <td>31</td>\n",
       "      <td>1</td>\n",
       "      <td>1</td>\n",
       "      <td>1</td>\n",
       "    </tr>\n",
       "    <tr>\n",
       "      <th>2</th>\n",
       "      <td>35</td>\n",
       "      <td>0</td>\n",
       "      <td>1</td>\n",
       "      <td>1</td>\n",
       "    </tr>\n",
       "    <tr>\n",
       "      <th>3</th>\n",
       "      <td>35</td>\n",
       "      <td>0</td>\n",
       "      <td>0</td>\n",
       "      <td>0</td>\n",
       "    </tr>\n",
       "    <tr>\n",
       "      <th>4</th>\n",
       "      <td>42</td>\n",
       "      <td>0</td>\n",
       "      <td>0</td>\n",
       "      <td>0</td>\n",
       "    </tr>\n",
       "    <tr>\n",
       "      <th>5</th>\n",
       "      <td>43</td>\n",
       "      <td>1</td>\n",
       "      <td>1</td>\n",
       "      <td>1</td>\n",
       "    </tr>\n",
       "    <tr>\n",
       "      <th>6</th>\n",
       "      <td>45</td>\n",
       "      <td>1</td>\n",
       "      <td>0</td>\n",
       "      <td>0</td>\n",
       "    </tr>\n",
       "    <tr>\n",
       "      <th>7</th>\n",
       "      <td>46</td>\n",
       "      <td>1</td>\n",
       "      <td>1</td>\n",
       "      <td>1</td>\n",
       "    </tr>\n",
       "    <tr>\n",
       "      <th>8</th>\n",
       "      <td>46</td>\n",
       "      <td>0</td>\n",
       "      <td>1</td>\n",
       "      <td>0</td>\n",
       "    </tr>\n",
       "    <tr>\n",
       "      <th>9</th>\n",
       "      <td>51</td>\n",
       "      <td>1</td>\n",
       "      <td>1</td>\n",
       "      <td>1</td>\n",
       "    </tr>\n",
       "  </tbody>\n",
       "</table>\n",
       "</div>"
      ],
      "text/plain": [
       "   age  likes goats  likes height  go rock climbing\n",
       "0   23            0             0                 0\n",
       "1   31            1             1                 1\n",
       "2   35            0             1                 1\n",
       "3   35            0             0                 0\n",
       "4   42            0             0                 0\n",
       "5   43            1             1                 1\n",
       "6   45            1             0                 0\n",
       "7   46            1             1                 1\n",
       "8   46            0             1                 0\n",
       "9   51            1             1                 1"
      ]
     },
     "execution_count": 4,
     "metadata": {},
     "output_type": "execute_result"
    }
   ],
   "source": [
    "# transfor data\n",
    "df.loc[df['likes goats']=='no', 'likes goats'] = 0\n",
    "df.loc[df['likes goats']=='yes', 'likes goats'] = 1\n",
    "df.loc[df['likes height']=='no', 'likes height'] = 0\n",
    "df.loc[df['likes height']=='yes', 'likes height'] = 1\n",
    "df.loc[df['go rock climbing']=='no', 'go rock climbing'] = 0\n",
    "df.loc[df['go rock climbing']=='yes', 'go rock climbing'] = 1\n",
    "df[['likes goats', 'likes height', 'go rock climbing']] = df[['likes goats', 'likes height', 'go rock climbing']].astype(int)\n",
    "df"
   ]
  },
  {
   "cell_type": "code",
   "execution_count": 5,
   "id": "8b3e79e0",
   "metadata": {},
   "outputs": [],
   "source": [
    "X = df[['age', 'likes goats', 'likes height']].values\n",
    "y = df[['go rock climbing']].values.reshape(-1,)"
   ]
  },
  {
   "cell_type": "code",
   "execution_count": 6,
   "id": "73689c00",
   "metadata": {},
   "outputs": [
    {
     "name": "stdout",
     "output_type": "stream",
     "text": [
      "Predictions: [0 1 1 0 0 1 0 1 0 1]\n",
      "Predicted Probabilites[[1. 0.]\n",
      " [0. 1.]\n",
      " [0. 1.]\n",
      " [1. 0.]\n",
      " [1. 0.]\n",
      " [0. 1.]\n",
      " [1. 0.]\n",
      " [0. 1.]\n",
      " [1. 0.]\n",
      " [0. 1.]]\n"
     ]
    }
   ],
   "source": [
    "clf = DecisionTreeClassifier()\n",
    "clf = clf.fit(X, y)\n",
    "print(f'Predictions: {clf.predict(X)}')\n",
    "print(f'Predicted Probabilites{clf.predict_proba(X)}')"
   ]
  },
  {
   "cell_type": "code",
   "execution_count": 7,
   "id": "1e55b364",
   "metadata": {},
   "outputs": [
    {
     "data": {
      "text/plain": [
       "[Text(0.4, 0.875, 'likes height <= 0.5\\ngini = 0.5\\nsamples = 10\\nvalue = [5, 5]'),\n",
       " Text(0.2, 0.625, 'gini = 0.0\\nsamples = 4\\nvalue = [4, 0]'),\n",
       " Text(0.6, 0.625, 'likes goats <= 0.5\\ngini = 0.278\\nsamples = 6\\nvalue = [1, 5]'),\n",
       " Text(0.4, 0.375, 'age <= 40.5\\ngini = 0.5\\nsamples = 2\\nvalue = [1, 1]'),\n",
       " Text(0.2, 0.125, 'gini = 0.0\\nsamples = 1\\nvalue = [0, 1]'),\n",
       " Text(0.6, 0.125, 'gini = 0.0\\nsamples = 1\\nvalue = [1, 0]'),\n",
       " Text(0.8, 0.375, 'gini = 0.0\\nsamples = 4\\nvalue = [0, 4]')]"
      ]
     },
     "execution_count": 7,
     "metadata": {},
     "output_type": "execute_result"
    },
    {
     "data": {
      "image/png": "[encoded data removed]",
      "text/plain": [
       "<Figure size 640x480 with 1 Axes>"
      ]
     },
     "metadata": {},
     "output_type": "display_data"
    }
   ],
   "source": [
    "plot_tree(clf, feature_names=['age', 'likes goats', 'likes height'], fontsize=10)"
   ]
  },
  {
   "cell_type": "code",
   "execution_count": 8,
   "id": "2dfc62bd",
   "metadata": {},
   "outputs": [
    {
     "data": {
      "text/html": [
       "<div>\n",
       "<style scoped>\n",
       "    .dataframe tbody tr th:only-of-type {\n",
       "        vertical-align: middle;\n",
       "    }\n",
       "\n",
       "    .dataframe tbody tr th {\n",
       "        vertical-align: top;\n",
       "    }\n",
       "\n",
       "    .dataframe thead th {\n",
       "        text-align: right;\n",
       "    }\n",
       "</style>\n",
       "<table border=\"1\" class=\"dataframe\">\n",
       "  <thead>\n",
       "    <tr style=\"text-align: right;\">\n",
       "      <th></th>\n",
       "      <th>age</th>\n",
       "      <th>likes goats</th>\n",
       "      <th>likes height</th>\n",
       "      <th>climbed meters</th>\n",
       "    </tr>\n",
       "  </thead>\n",
       "  <tbody>\n",
       "    <tr>\n",
       "      <th>0</th>\n",
       "      <td>23</td>\n",
       "      <td>no</td>\n",
       "      <td>no</td>\n",
       "      <td>200</td>\n",
       "    </tr>\n",
       "    <tr>\n",
       "      <th>1</th>\n",
       "      <td>31</td>\n",
       "      <td>yes</td>\n",
       "      <td>yes</td>\n",
       "      <td>700</td>\n",
       "    </tr>\n",
       "    <tr>\n",
       "      <th>2</th>\n",
       "      <td>35</td>\n",
       "      <td>no</td>\n",
       "      <td>yes</td>\n",
       "      <td>600</td>\n",
       "    </tr>\n",
       "    <tr>\n",
       "      <th>3</th>\n",
       "      <td>35</td>\n",
       "      <td>no</td>\n",
       "      <td>no</td>\n",
       "      <td>300</td>\n",
       "    </tr>\n",
       "    <tr>\n",
       "      <th>4</th>\n",
       "      <td>42</td>\n",
       "      <td>no</td>\n",
       "      <td>no</td>\n",
       "      <td>200</td>\n",
       "    </tr>\n",
       "    <tr>\n",
       "      <th>5</th>\n",
       "      <td>43</td>\n",
       "      <td>yes</td>\n",
       "      <td>yes</td>\n",
       "      <td>700</td>\n",
       "    </tr>\n",
       "    <tr>\n",
       "      <th>6</th>\n",
       "      <td>45</td>\n",
       "      <td>yes</td>\n",
       "      <td>no</td>\n",
       "      <td>300</td>\n",
       "    </tr>\n",
       "    <tr>\n",
       "      <th>7</th>\n",
       "      <td>46</td>\n",
       "      <td>yes</td>\n",
       "      <td>yes</td>\n",
       "      <td>700</td>\n",
       "    </tr>\n",
       "    <tr>\n",
       "      <th>8</th>\n",
       "      <td>46</td>\n",
       "      <td>no</td>\n",
       "      <td>yes</td>\n",
       "      <td>600</td>\n",
       "    </tr>\n",
       "    <tr>\n",
       "      <th>9</th>\n",
       "      <td>51</td>\n",
       "      <td>yes</td>\n",
       "      <td>yes</td>\n",
       "      <td>700</td>\n",
       "    </tr>\n",
       "  </tbody>\n",
       "</table>\n",
       "</div>"
      ],
      "text/plain": [
       "   age likes goats likes height  climbed meters\n",
       "0   23          no           no             200\n",
       "1   31         yes          yes             700\n",
       "2   35          no          yes             600\n",
       "3   35          no           no             300\n",
       "4   42          no           no             200\n",
       "5   43         yes          yes             700\n",
       "6   45         yes           no             300\n",
       "7   46         yes          yes             700\n",
       "8   46          no          yes             600\n",
       "9   51         yes          yes             700"
      ]
     },
     "execution_count": 8,
     "metadata": {},
     "output_type": "execute_result"
    }
   ],
   "source": [
    "import pandas as pd\n",
    "import matplotlib.pyplot as plt\n",
    "from sklearn.tree import DecisionTreeRegressor\n",
    "\n",
    "data = {'age': [23, 31, 35, 35, 42, 43, 45, 46, 46, 51], \n",
    "        'likes goats': ['no', 'yes', 'no', 'no', 'no', 'yes', 'yes', 'yes', 'no', 'yes'], \n",
    "        'likes height': ['no', 'yes', 'yes', 'no', 'no', 'yes', 'no', 'yes', 'yes', 'yes'], \n",
    "        'climbed meters': [200, 700, 600, 300, 200, 700, 300, 700, 600, 700]}\n",
    "\n",
    "df = pd.DataFrame(data)\n",
    "df"
   ]
  },
  {
   "cell_type": "code",
   "execution_count": 9,
   "id": "394382fb",
   "metadata": {},
   "outputs": [
    {
     "data": {
      "text/html": [
       "<div>\n",
       "<style scoped>\n",
       "    .dataframe tbody tr th:only-of-type {\n",
       "        vertical-align: middle;\n",
       "    }\n",
       "\n",
       "    .dataframe tbody tr th {\n",
       "        vertical-align: top;\n",
       "    }\n",
       "\n",
       "    .dataframe thead th {\n",
       "        text-align: right;\n",
       "    }\n",
       "</style>\n",
       "<table border=\"1\" class=\"dataframe\">\n",
       "  <thead>\n",
       "    <tr style=\"text-align: right;\">\n",
       "      <th></th>\n",
       "      <th>age</th>\n",
       "      <th>likes goats</th>\n",
       "      <th>likes height</th>\n",
       "      <th>climbed meters</th>\n",
       "    </tr>\n",
       "  </thead>\n",
       "  <tbody>\n",
       "    <tr>\n",
       "      <th>0</th>\n",
       "      <td>23</td>\n",
       "      <td>0</td>\n",
       "      <td>0</td>\n",
       "      <td>200</td>\n",
       "    </tr>\n",
       "    <tr>\n",
       "      <th>1</th>\n",
       "      <td>31</td>\n",
       "      <td>1</td>\n",
       "      <td>1</td>\n",
       "      <td>700</td>\n",
       "    </tr>\n",
       "    <tr>\n",
       "      <th>2</th>\n",
       "      <td>35</td>\n",
       "      <td>0</td>\n",
       "      <td>1</td>\n",
       "      <td>600</td>\n",
       "    </tr>\n",
       "    <tr>\n",
       "      <th>3</th>\n",
       "      <td>35</td>\n",
       "      <td>0</td>\n",
       "      <td>0</td>\n",
       "      <td>300</td>\n",
       "    </tr>\n",
       "    <tr>\n",
       "      <th>4</th>\n",
       "      <td>42</td>\n",
       "      <td>0</td>\n",
       "      <td>0</td>\n",
       "      <td>200</td>\n",
       "    </tr>\n",
       "    <tr>\n",
       "      <th>5</th>\n",
       "      <td>43</td>\n",
       "      <td>1</td>\n",
       "      <td>1</td>\n",
       "      <td>700</td>\n",
       "    </tr>\n",
       "    <tr>\n",
       "      <th>6</th>\n",
       "      <td>45</td>\n",
       "      <td>1</td>\n",
       "      <td>0</td>\n",
       "      <td>300</td>\n",
       "    </tr>\n",
       "    <tr>\n",
       "      <th>7</th>\n",
       "      <td>46</td>\n",
       "      <td>1</td>\n",
       "      <td>1</td>\n",
       "      <td>700</td>\n",
       "    </tr>\n",
       "    <tr>\n",
       "      <th>8</th>\n",
       "      <td>46</td>\n",
       "      <td>0</td>\n",
       "      <td>1</td>\n",
       "      <td>600</td>\n",
       "    </tr>\n",
       "    <tr>\n",
       "      <th>9</th>\n",
       "      <td>51</td>\n",
       "      <td>1</td>\n",
       "      <td>1</td>\n",
       "      <td>700</td>\n",
       "    </tr>\n",
       "  </tbody>\n",
       "</table>\n",
       "</div>"
      ],
      "text/plain": [
       "   age  likes goats  likes height  climbed meters\n",
       "0   23            0             0             200\n",
       "1   31            1             1             700\n",
       "2   35            0             1             600\n",
       "3   35            0             0             300\n",
       "4   42            0             0             200\n",
       "5   43            1             1             700\n",
       "6   45            1             0             300\n",
       "7   46            1             1             700\n",
       "8   46            0             1             600\n",
       "9   51            1             1             700"
      ]
     },
     "execution_count": 9,
     "metadata": {},
     "output_type": "execute_result"
    }
   ],
   "source": [
    "# transfor data\n",
    "df.loc[df['likes goats']=='no', 'likes goats'] = 0\n",
    "df.loc[df['likes goats']=='yes', 'likes goats'] = 1\n",
    "df.loc[df['likes height']=='no', 'likes height'] = 0\n",
    "df.loc[df['likes height']=='yes', 'likes height'] = 1\n",
    "df[['likes goats', 'likes height']] = df[['likes goats', 'likes height']].astype(int)\n",
    "df"
   ]
  },
  {
   "cell_type": "code",
   "execution_count": 10,
   "id": "2f5f3bdc",
   "metadata": {},
   "outputs": [],
   "source": [
    "X = df[['age', 'likes goats', 'likes height']].values\n",
    "y = df[['climbed meters']].values.reshape(-1,)"
   ]
  },
  {
   "cell_type": "code",
   "execution_count": 11,
   "id": "11987c33",
   "metadata": {},
   "outputs": [
    {
     "name": "stdout",
     "output_type": "stream",
     "text": [
      "Predictions: [200. 700. 600. 300. 200. 700. 300. 700. 600. 700.]\n"
     ]
    }
   ],
   "source": [
    "reg = DecisionTreeRegressor()\n",
    "reg = reg.fit(X, y)\n",
    "print(f'Predictions: {reg.predict(X)}')"
   ]
  },
  {
   "cell_type": "code",
   "execution_count": 12,
   "id": "21a07c7f",
   "metadata": {},
   "outputs": [
    {
     "data": {
      "text/plain": [
       "[Text(0.5, 0.9, 'likes height <= 0.5\\nsquared_error = 44000.0\\nsamples = 10\\nvalue = 500.0'),\n",
       " Text(0.25, 0.7, 'age <= 29.0\\nsquared_error = 2500.0\\nsamples = 4\\nvalue = 250.0'),\n",
       " Text(0.125, 0.5, 'squared_error = 0.0\\nsamples = 1\\nvalue = 200.0'),\n",
       " Text(0.375, 0.5, 'likes goats <= 0.5\\nsquared_error = 2222.222\\nsamples = 3\\nvalue = 266.667'),\n",
       " Text(0.25, 0.3, 'age <= 38.5\\nsquared_error = 2500.0\\nsamples = 2\\nvalue = 250.0'),\n",
       " Text(0.125, 0.1, 'squared_error = 0.0\\nsamples = 1\\nvalue = 300.0'),\n",
       " Text(0.375, 0.1, 'squared_error = 0.0\\nsamples = 1\\nvalue = 200.0'),\n",
       " Text(0.5, 0.3, 'squared_error = 0.0\\nsamples = 1\\nvalue = 300.0'),\n",
       " Text(0.75, 0.7, 'likes goats <= 0.5\\nsquared_error = 2222.222\\nsamples = 6\\nvalue = 666.667'),\n",
       " Text(0.625, 0.5, 'squared_error = 0.0\\nsamples = 2\\nvalue = 600.0'),\n",
       " Text(0.875, 0.5, 'squared_error = 0.0\\nsamples = 4\\nvalue = 700.0')]"
      ]
     },
     "execution_count": 12,
     "metadata": {},
     "output_type": "execute_result"
    },
    {
     "data": {
      "image/png": "[encoded data removed]",
      "text/plain": [
       "<Figure size 640x480 with 1 Axes>"
      ]
     },
     "metadata": {},
     "output_type": "display_data"
    }
   ],
   "source": [
    "plot_tree(reg, feature_names=['age', 'likes goats', 'likes height'], fontsize=6)"
   ]
  },
  {
   "cell_type": "code",
   "execution_count": 13,
   "id": "d95b1ab8",
   "metadata": {},
   "outputs": [
    {
     "name": "stdout",
     "output_type": "stream",
     "text": [
      "[200 700 600 300 200 700 300 700 600]\n",
      "[477.77777778 477.77777778 477.77777778 477.77777778 477.77777778\n",
      " 477.77777778 477.77777778 477.77777778 477.77777778]\n"
     ]
    },
    {
     "data": {
      "text/plain": [
       "43950.61728395061"
      ]
     },
     "execution_count": 13,
     "metadata": {},
     "output_type": "execute_result"
    }
   ],
   "source": [
    "from sklearn.metrics import mean_squared_error\n",
    "a = df[df['age']<=46]['climbed meters'].values\n",
    "print(a)\n",
    "mean_a = np.repeat(np.mean(a), len(a))\n",
    "print(mean_a)\n",
    "mean_squared_error(a, mean_a)"
   ]
  },
  {
   "cell_type": "markdown",
   "id": "35417cfe-57d6-487e-8daa-eef5ebced12c",
   "metadata": {},
   "source": [
    "**Random Forest**"
   ]
  },
  {
   "cell_type": "code",
   "execution_count": 35,
   "id": "d516d58d",
   "metadata": {},
   "outputs": [
    {
     "data": {
      "text/html": [
       "<div>\n",
       "<style scoped>\n",
       "    .dataframe tbody tr th:only-of-type {\n",
       "        vertical-align: middle;\n",
       "    }\n",
       "\n",
       "    .dataframe tbody tr th {\n",
       "        vertical-align: top;\n",
       "    }\n",
       "\n",
       "    .dataframe thead th {\n",
       "        text-align: right;\n",
       "    }\n",
       "</style>\n",
       "<table border=\"1\" class=\"dataframe\">\n",
       "  <thead>\n",
       "    <tr style=\"text-align: right;\">\n",
       "      <th></th>\n",
       "      <th>age</th>\n",
       "      <th>likes goats</th>\n",
       "      <th>likes height</th>\n",
       "      <th>go rock climbing</th>\n",
       "    </tr>\n",
       "  </thead>\n",
       "  <tbody>\n",
       "    <tr>\n",
       "      <th>0</th>\n",
       "      <td>23</td>\n",
       "      <td>no</td>\n",
       "      <td>no</td>\n",
       "      <td>no</td>\n",
       "    </tr>\n",
       "    <tr>\n",
       "      <th>1</th>\n",
       "      <td>31</td>\n",
       "      <td>yes</td>\n",
       "      <td>yes</td>\n",
       "      <td>yes</td>\n",
       "    </tr>\n",
       "    <tr>\n",
       "      <th>2</th>\n",
       "      <td>35</td>\n",
       "      <td>no</td>\n",
       "      <td>yes</td>\n",
       "      <td>yes</td>\n",
       "    </tr>\n",
       "    <tr>\n",
       "      <th>3</th>\n",
       "      <td>35</td>\n",
       "      <td>no</td>\n",
       "      <td>no</td>\n",
       "      <td>no</td>\n",
       "    </tr>\n",
       "    <tr>\n",
       "      <th>4</th>\n",
       "      <td>42</td>\n",
       "      <td>no</td>\n",
       "      <td>no</td>\n",
       "      <td>no</td>\n",
       "    </tr>\n",
       "    <tr>\n",
       "      <th>5</th>\n",
       "      <td>43</td>\n",
       "      <td>yes</td>\n",
       "      <td>yes</td>\n",
       "      <td>yes</td>\n",
       "    </tr>\n",
       "    <tr>\n",
       "      <th>6</th>\n",
       "      <td>45</td>\n",
       "      <td>yes</td>\n",
       "      <td>no</td>\n",
       "      <td>no</td>\n",
       "    </tr>\n",
       "    <tr>\n",
       "      <th>7</th>\n",
       "      <td>46</td>\n",
       "      <td>yes</td>\n",
       "      <td>yes</td>\n",
       "      <td>yes</td>\n",
       "    </tr>\n",
       "    <tr>\n",
       "      <th>8</th>\n",
       "      <td>46</td>\n",
       "      <td>no</td>\n",
       "      <td>yes</td>\n",
       "      <td>no</td>\n",
       "    </tr>\n",
       "    <tr>\n",
       "      <th>9</th>\n",
       "      <td>51</td>\n",
       "      <td>yes</td>\n",
       "      <td>yes</td>\n",
       "      <td>yes</td>\n",
       "    </tr>\n",
       "  </tbody>\n",
       "</table>\n",
       "</div>"
      ],
      "text/plain": [
       "   age likes goats likes height go rock climbing\n",
       "0   23          no           no               no\n",
       "1   31         yes          yes              yes\n",
       "2   35          no          yes              yes\n",
       "3   35          no           no               no\n",
       "4   42          no           no               no\n",
       "5   43         yes          yes              yes\n",
       "6   45         yes           no               no\n",
       "7   46         yes          yes              yes\n",
       "8   46          no          yes               no\n",
       "9   51         yes          yes              yes"
      ]
     },
     "execution_count": 35,
     "metadata": {},
     "output_type": "execute_result"
    }
   ],
   "source": [
    "import pandas as pd\n",
    "import matplotlib.pyplot as plt\n",
    "from sklearn import tree\n",
    "from sklearn.ensemble import RandomForestClassifier\n",
    "\n",
    "data = {'age': [23, 31, 35, 35, 42, 43, 45, 46, 46, 51], \n",
    "        'likes goats': ['no', 'yes', 'no', 'no', 'no', 'yes', 'yes', 'yes', 'no', 'yes'], \n",
    "        'likes height': ['no', 'yes', 'yes', 'no', 'no', 'yes', 'no', 'yes', 'yes', 'yes'], \n",
    "        'go rock climbing': ['no', 'yes', 'yes', 'no', 'no', 'yes', 'no', 'yes', 'no', 'yes']}\n",
    "\n",
    "df = pd.DataFrame(data)\n",
    "df"
   ]
  },
  {
   "cell_type": "code",
   "execution_count": 36,
   "id": "f778dbca-9b77-4d8f-b22a-668bed6d00e2",
   "metadata": {},
   "outputs": [
    {
     "data": {
      "text/html": [
       "<div>\n",
       "<style scoped>\n",
       "    .dataframe tbody tr th:only-of-type {\n",
       "        vertical-align: middle;\n",
       "    }\n",
       "\n",
       "    .dataframe tbody tr th {\n",
       "        vertical-align: top;\n",
       "    }\n",
       "\n",
       "    .dataframe thead th {\n",
       "        text-align: right;\n",
       "    }\n",
       "</style>\n",
       "<table border=\"1\" class=\"dataframe\">\n",
       "  <thead>\n",
       "    <tr style=\"text-align: right;\">\n",
       "      <th></th>\n",
       "      <th>age</th>\n",
       "      <th>likes goats</th>\n",
       "      <th>likes height</th>\n",
       "      <th>go rock climbing</th>\n",
       "    </tr>\n",
       "  </thead>\n",
       "  <tbody>\n",
       "    <tr>\n",
       "      <th>0</th>\n",
       "      <td>23</td>\n",
       "      <td>0</td>\n",
       "      <td>0</td>\n",
       "      <td>0</td>\n",
       "    </tr>\n",
       "    <tr>\n",
       "      <th>1</th>\n",
       "      <td>31</td>\n",
       "      <td>1</td>\n",
       "      <td>1</td>\n",
       "      <td>1</td>\n",
       "    </tr>\n",
       "    <tr>\n",
       "      <th>2</th>\n",
       "      <td>35</td>\n",
       "      <td>0</td>\n",
       "      <td>1</td>\n",
       "      <td>1</td>\n",
       "    </tr>\n",
       "    <tr>\n",
       "      <th>3</th>\n",
       "      <td>35</td>\n",
       "      <td>0</td>\n",
       "      <td>0</td>\n",
       "      <td>0</td>\n",
       "    </tr>\n",
       "    <tr>\n",
       "      <th>4</th>\n",
       "      <td>42</td>\n",
       "      <td>0</td>\n",
       "      <td>0</td>\n",
       "      <td>0</td>\n",
       "    </tr>\n",
       "    <tr>\n",
       "      <th>5</th>\n",
       "      <td>43</td>\n",
       "      <td>1</td>\n",
       "      <td>1</td>\n",
       "      <td>1</td>\n",
       "    </tr>\n",
       "    <tr>\n",
       "      <th>6</th>\n",
       "      <td>45</td>\n",
       "      <td>1</td>\n",
       "      <td>0</td>\n",
       "      <td>0</td>\n",
       "    </tr>\n",
       "    <tr>\n",
       "      <th>7</th>\n",
       "      <td>46</td>\n",
       "      <td>1</td>\n",
       "      <td>1</td>\n",
       "      <td>1</td>\n",
       "    </tr>\n",
       "    <tr>\n",
       "      <th>8</th>\n",
       "      <td>46</td>\n",
       "      <td>0</td>\n",
       "      <td>1</td>\n",
       "      <td>0</td>\n",
       "    </tr>\n",
       "    <tr>\n",
       "      <th>9</th>\n",
       "      <td>51</td>\n",
       "      <td>1</td>\n",
       "      <td>1</td>\n",
       "      <td>1</td>\n",
       "    </tr>\n",
       "  </tbody>\n",
       "</table>\n",
       "</div>"
      ],
      "text/plain": [
       "   age  likes goats  likes height  go rock climbing\n",
       "0   23            0             0                 0\n",
       "1   31            1             1                 1\n",
       "2   35            0             1                 1\n",
       "3   35            0             0                 0\n",
       "4   42            0             0                 0\n",
       "5   43            1             1                 1\n",
       "6   45            1             0                 0\n",
       "7   46            1             1                 1\n",
       "8   46            0             1                 0\n",
       "9   51            1             1                 1"
      ]
     },
     "execution_count": 36,
     "metadata": {},
     "output_type": "execute_result"
    }
   ],
   "source": [
    "# transfor data\n",
    "df.loc[df['likes goats']=='no', 'likes goats'] = 0\n",
    "df.loc[df['likes goats']=='yes', 'likes goats'] = 1\n",
    "df.loc[df['likes height']=='no', 'likes height'] = 0\n",
    "df.loc[df['likes height']=='yes', 'likes height'] = 1\n",
    "df.loc[df['go rock climbing']=='no', 'go rock climbing'] = 0\n",
    "df.loc[df['go rock climbing']=='yes', 'go rock climbing'] = 1\n",
    "df[['likes goats', 'likes height', 'go rock climbing']] = df[['likes goats', 'likes height', 'go rock climbing']].astype(int)\n",
    "df"
   ]
  },
  {
   "cell_type": "code",
   "execution_count": 37,
   "id": "4f69abd0-65c7-48d9-a147-fe0feb10c6b4",
   "metadata": {},
   "outputs": [],
   "source": [
    "X = df[['age', 'likes goats', 'likes height']].values\n",
    "y = df[['go rock climbing']].values.reshape(-1,)"
   ]
  },
  {
   "cell_type": "code",
   "execution_count": 134,
   "id": "49cfae6e-2af6-44b1-885b-c79911260b9c",
   "metadata": {},
   "outputs": [
    {
     "name": "stdout",
     "output_type": "stream",
     "text": [
      "Predictions: [0 1 1 0 0 1 0 1 0 1]\n"
     ]
    }
   ],
   "source": [
    "clf = RandomForestClassifier(n_estimators=3, random_state=1)\n",
    "clf.fit(X, y)\n",
    "print(f'Predictions: {clf.predict(X)}')"
   ]
  },
  {
   "cell_type": "code",
   "execution_count": 135,
   "id": "38bf9bd2-cd89-4140-84f3-2586cd2f5216",
   "metadata": {},
   "outputs": [
    {
     "data": {
      "text/plain": [
       "[Text(0.6666666666666666, 0.9, 'x[0] <= 48.5\\ngini = 0.42\\nsamples = 5\\nvalue = [3, 7]'),\n",
       " Text(0.5, 0.7, 'x[1] <= 0.5\\ngini = 0.49\\nsamples = 4\\nvalue = [3, 4]'),\n",
       " Text(0.3333333333333333, 0.5, 'x[2] <= 0.5\\ngini = 0.48\\nsamples = 3\\nvalue = [3, 2]'),\n",
       " Text(0.16666666666666666, 0.3, 'gini = 0.0\\nsamples = 1\\nvalue = [1, 0]'),\n",
       " Text(0.5, 0.3, 'x[0] <= 40.5\\ngini = 0.5\\nsamples = 2\\nvalue = [2, 2]'),\n",
       " Text(0.3333333333333333, 0.1, 'gini = 0.0\\nsamples = 1\\nvalue = [0, 2]'),\n",
       " Text(0.6666666666666666, 0.1, 'gini = 0.0\\nsamples = 1\\nvalue = [2, 0]'),\n",
       " Text(0.6666666666666666, 0.5, 'gini = 0.0\\nsamples = 1\\nvalue = [0, 2]'),\n",
       " Text(0.8333333333333334, 0.7, 'gini = 0.0\\nsamples = 1\\nvalue = [0, 3]')]"
      ]
     },
     "execution_count": 135,
     "metadata": {},
     "output_type": "execute_result"
    },
    {
     "data": {
      "image/png": "[encoded data removed]",
      "text/plain": [
       "<Figure size 640x480 with 1 Axes>"
      ]
     },
     "metadata": {},
     "output_type": "display_data"
    }
   ],
   "source": [
    "tree.plot_tree(clf.estimators_[0], fontsize=6)"
   ]
  },
  {
   "cell_type": "code",
   "execution_count": 136,
   "id": "056098ef-2245-4da5-9f2d-c73e027b8939",
   "metadata": {},
   "outputs": [
    {
     "data": {
      "text/plain": [
       "[Text(0.5, 0.75, 'x[2] <= 0.5\\ngini = 0.5\\nsamples = 5\\nvalue = [5, 5]'),\n",
       " Text(0.25, 0.25, 'gini = 0.0\\nsamples = 2\\nvalue = [5, 0]'),\n",
       " Text(0.75, 0.25, 'gini = 0.0\\nsamples = 3\\nvalue = [0, 5]')]"
      ]
     },
     "execution_count": 136,
     "metadata": {},
     "output_type": "execute_result"
    },
    {
     "data": {
      "image/png": "[encoded data removed]",
      "text/plain": [
       "<Figure size 640x480 with 1 Axes>"
      ]
     },
     "metadata": {},
     "output_type": "display_data"
    }
   ],
   "source": [
    "tree.plot_tree(clf.estimators_[1], fontsize=6)"
   ]
  },
  {
   "cell_type": "code",
   "execution_count": 137,
   "id": "fafe1f5a-cced-4c2f-b9cc-723859531f1b",
   "metadata": {},
   "outputs": [
    {
     "data": {
      "text/plain": [
       "[Text(0.5555555555555556, 0.875, 'x[1] <= 0.5\\ngini = 0.48\\nsamples = 7\\nvalue = [4, 6]'),\n",
       " Text(0.3333333333333333, 0.625, 'x[0] <= 40.5\\ngini = 0.375\\nsamples = 3\\nvalue = [3, 1]'),\n",
       " Text(0.2222222222222222, 0.375, 'x[2] <= 0.5\\ngini = 0.5\\nsamples = 2\\nvalue = [1, 1]'),\n",
       " Text(0.1111111111111111, 0.125, 'gini = 0.0\\nsamples = 1\\nvalue = [1, 0]'),\n",
       " Text(0.3333333333333333, 0.125, 'gini = 0.0\\nsamples = 1\\nvalue = [0, 1]'),\n",
       " Text(0.4444444444444444, 0.375, 'gini = 0.0\\nsamples = 1\\nvalue = [2, 0]'),\n",
       " Text(0.7777777777777778, 0.625, 'x[2] <= 0.5\\ngini = 0.278\\nsamples = 4\\nvalue = [1, 5]'),\n",
       " Text(0.6666666666666666, 0.375, 'gini = 0.0\\nsamples = 1\\nvalue = [1, 0]'),\n",
       " Text(0.8888888888888888, 0.375, 'gini = 0.0\\nsamples = 3\\nvalue = [0, 5]')]"
      ]
     },
     "execution_count": 137,
     "metadata": {},
     "output_type": "execute_result"
    },
    {
     "data": {
      "image/png": "[encoded data removed]",
      "text/plain": [
       "<Figure size 640x480 with 1 Axes>"
      ]
     },
     "metadata": {},
     "output_type": "display_data"
    }
   ],
   "source": [
    "tree.plot_tree(clf.estimators_[2], fontsize=6)"
   ]
  },
  {
   "cell_type": "code",
   "execution_count": 138,
   "id": "82c6b799-4b76-4bb3-be90-ba93d851f866",
   "metadata": {},
   "outputs": [
    {
     "name": "stdout",
     "output_type": "stream",
     "text": [
      "Predictions: [0]\n"
     ]
    }
   ],
   "source": [
    "print(f'Predictions: {clf.predict(X[:1])}')"
   ]
  },
  {
   "cell_type": "code",
   "execution_count": 139,
   "id": "8c748ee0-7682-4216-b2b0-4e59dc58b3c2",
   "metadata": {},
   "outputs": [],
   "source": [
    "import sklearn.ensemble._forest as forest_utils\n",
    "\n",
    "n_samples = len(y) # number of training samples\n",
    "\n",
    "n_samples_bootstrap = forest_utils._get_n_samples_bootstrap(\n",
    "    n_samples, clf.max_samples\n",
    ")\n",
    "\n",
    "unsampled_indices_trees = []\n",
    "sampled_indices_trees = []\n",
    "\n",
    "for estimator in clf.estimators_:\n",
    "    unsampled_indices = forest_utils._generate_unsampled_indices(\n",
    "        estimator.random_state, n_samples, n_samples_bootstrap)\n",
    "    unsampled_indices_trees.append(unsampled_indices)\n",
    "\n",
    "    sampled_indices = forest_utils._generate_sample_indices(\n",
    "        estimator.random_state, n_samples, n_samples_bootstrap)\n",
    "    sampled_indices_trees.append(sampled_indices)\n"
   ]
  },
  {
   "cell_type": "code",
   "execution_count": 140,
   "id": "7b4b403f-b173-4d8a-8daf-9ddfa3b90740",
   "metadata": {},
   "outputs": [
    {
     "data": {
      "text/plain": [
       "[array([0, 1, 4, 5, 6]), array([1, 2, 4, 6, 8]), array([1, 3, 4])]"
      ]
     },
     "execution_count": 140,
     "metadata": {},
     "output_type": "execute_result"
    }
   ],
   "source": [
    "unsampled_indices_trees"
   ]
  },
  {
   "cell_type": "code",
   "execution_count": 141,
   "id": "f0b6e7ec-4ae8-4e64-90b3-ca097f30ce13",
   "metadata": {},
   "outputs": [
    {
     "data": {
      "text/plain": [
       "[array([9, 2, 9, 7, 7, 8, 3, 2, 8, 9]),\n",
       " array([7, 3, 7, 3, 9, 5, 3, 9, 0, 3]),\n",
       " array([6, 0, 7, 7, 9, 8, 5, 8, 2, 5])]"
      ]
     },
     "execution_count": 141,
     "metadata": {},
     "output_type": "execute_result"
    }
   ],
   "source": [
    "samples = sampled_indices_trees\n",
    "samples"
   ]
  },
  {
   "cell_type": "code",
   "execution_count": 142,
   "id": "589a008e-5265-4185-9ed2-6accbb405e24",
   "metadata": {},
   "outputs": [
    {
     "data": {
      "text/plain": [
       "(array([[51,  1,  1],\n",
       "        [35,  0,  1],\n",
       "        [51,  1,  1],\n",
       "        [46,  1,  1],\n",
       "        [46,  1,  1],\n",
       "        [46,  0,  1],\n",
       "        [35,  0,  0],\n",
       "        [35,  0,  1],\n",
       "        [46,  0,  1],\n",
       "        [51,  1,  1]]),\n",
       " array([1, 1, 1, 1, 1, 0, 0, 1, 0, 1]))"
      ]
     },
     "execution_count": 142,
     "metadata": {},
     "output_type": "execute_result"
    }
   ],
   "source": [
    "X[samples[0]], y[samples[0]]"
   ]
  },
  {
   "cell_type": "code",
   "execution_count": 143,
   "id": "784c8d52-0309-47b1-a6b4-c756465e4a3c",
   "metadata": {},
   "outputs": [
    {
     "data": {
      "text/plain": [
       "[Text(0.6666666666666666, 0.875, 'x[1] <= 0.5\\ngini = 0.42\\nsamples = 10\\nvalue = [3, 7]'),\n",
       " Text(0.5, 0.625, 'x[0] <= 40.5\\ngini = 0.48\\nsamples = 5\\nvalue = [3, 2]'),\n",
       " Text(0.3333333333333333, 0.375, 'x[2] <= 0.5\\ngini = 0.444\\nsamples = 3\\nvalue = [1, 2]'),\n",
       " Text(0.16666666666666666, 0.125, 'gini = 0.0\\nsamples = 1\\nvalue = [1, 0]'),\n",
       " Text(0.5, 0.125, 'gini = 0.0\\nsamples = 2\\nvalue = [0, 2]'),\n",
       " Text(0.6666666666666666, 0.375, 'gini = 0.0\\nsamples = 2\\nvalue = [2, 0]'),\n",
       " Text(0.8333333333333334, 0.625, 'gini = 0.0\\nsamples = 5\\nvalue = [0, 5]')]"
      ]
     },
     "execution_count": 143,
     "metadata": {},
     "output_type": "execute_result"
    },
    {
     "data": {
      "image/png": "[encoded data removed]",
      "text/plain": [
       "<Figure size 640x480 with 1 Axes>"
      ]
     },
     "metadata": {},
     "output_type": "display_data"
    }
   ],
   "source": [
    "from sklearn.tree import DecisionTreeClassifier\n",
    "clf1 = DecisionTreeClassifier()\n",
    "clf1.fit(X[samples[0],:], y[samples[0]])\n",
    "tree.plot_tree(clf1, fontsize=6)"
   ]
  },
  {
   "cell_type": "code",
   "execution_count": 144,
   "id": "37c39974-730e-46e8-a110-462212a152ab",
   "metadata": {},
   "outputs": [
    {
     "data": {
      "text/plain": [
       "[Text(0.5, 0.75, 'x[0] <= 39.0\\ngini = 0.5\\nsamples = 10\\nvalue = [5, 5]'),\n",
       " Text(0.25, 0.25, 'gini = 0.0\\nsamples = 5\\nvalue = [5, 0]'),\n",
       " Text(0.75, 0.25, 'gini = 0.0\\nsamples = 5\\nvalue = [0, 5]')]"
      ]
     },
     "execution_count": 144,
     "metadata": {},
     "output_type": "execute_result"
    },
    {
     "data": {
      "image/png": "[encoded data removed]",
      "text/plain": [
       "<Figure size 640x480 with 1 Axes>"
      ]
     },
     "metadata": {},
     "output_type": "display_data"
    }
   ],
   "source": [
    "clf2 = DecisionTreeClassifier()\n",
    "clf2.fit(X[samples[1],:], y[samples[1]])\n",
    "tree.plot_tree(clf2, fontsize=6)"
   ]
  },
  {
   "cell_type": "code",
   "execution_count": 145,
   "id": "bdf15826-5d0d-4085-b3e4-1079248fecdb",
   "metadata": {},
   "outputs": [
    {
     "data": {
      "text/plain": [
       "[Text(0.4, 0.875, 'x[2] <= 0.5\\ngini = 0.48\\nsamples = 10\\nvalue = [4, 6]'),\n",
       " Text(0.2, 0.625, 'gini = 0.0\\nsamples = 2\\nvalue = [2, 0]'),\n",
       " Text(0.6, 0.625, 'x[1] <= 0.5\\ngini = 0.375\\nsamples = 8\\nvalue = [2, 6]'),\n",
       " Text(0.4, 0.375, 'x[0] <= 40.5\\ngini = 0.444\\nsamples = 3\\nvalue = [2, 1]'),\n",
       " Text(0.2, 0.125, 'gini = 0.0\\nsamples = 1\\nvalue = [0, 1]'),\n",
       " Text(0.6, 0.125, 'gini = 0.0\\nsamples = 2\\nvalue = [2, 0]'),\n",
       " Text(0.8, 0.375, 'gini = 0.0\\nsamples = 5\\nvalue = [0, 5]')]"
      ]
     },
     "execution_count": 145,
     "metadata": {},
     "output_type": "execute_result"
    },
    {
     "data": {
      "image/png": "[encoded data removed]",
      "text/plain": [
       "<Figure size 640x480 with 1 Axes>"
      ]
     },
     "metadata": {},
     "output_type": "display_data"
    }
   ],
   "source": [
    "clf3 = DecisionTreeClassifier()\n",
    "clf3.fit(X[samples[2],:], y[samples[2]])\n",
    "tree.plot_tree(clf3, fontsize=6)"
   ]
  },
  {
   "cell_type": "code",
   "execution_count": null,
   "id": "749e593a-c6ae-4143-87dc-dcb16769566c",
   "metadata": {},
   "outputs": [],
   "source": []
  }
 ],
 "metadata": {
  "kernelspec": {
   "display_name": "Python 3 (ipykernel)",
   "language": "python",
   "name": "python3"
  },
  "language_info": {
   "codemirror_mode": {
    "name": "ipython",
    "version": 3
   },
   "file_extension": ".py",
   "mimetype": "text/x-python",
   "name": "python",
   "nbconvert_exporter": "python",
   "pygments_lexer": "ipython3",
   "version": "3.11.5"
  }
 },
 "nbformat": 4,
 "nbformat_minor": 5
}
